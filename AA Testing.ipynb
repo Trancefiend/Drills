{
 "cells": [
  {
   "cell_type": "markdown",
   "metadata": {},
   "source": [
    "1.\tPeople are far more likely to buy bathing suites in May than Feb.\n",
    "2.\tIf you are opening a clinic to treat anxiety, then people who have anxiety issues are going to visit your clinic where as the general population is far less likely to come.\n",
    "3.\tThere really is not enough data here. It could be that people saw your billboards and wanted to check out your site. Or it could just be an abnormal week. You need a longer time frame before you can consider your campaign useful.\n",
    "4.\tLoyalty programs take a long time to entice customers. Also, we have no way of knowing how well we are marketing our new loyalty program, maybe people don’t know about it. I know that I rarely visit a store more than once a week, so we need to wait for several months before we can even begin to analyze if this was effective.\n"
   ]
  }
 ],
 "metadata": {
  "kernelspec": {
   "display_name": "Python 3",
   "language": "python",
   "name": "python3"
  },
  "language_info": {
   "codemirror_mode": {
    "name": "ipython",
    "version": 3
   },
   "file_extension": ".py",
   "mimetype": "text/x-python",
   "name": "python",
   "nbconvert_exporter": "python",
   "pygments_lexer": "ipython3",
   "version": "3.6.3"
  }
 },
 "nbformat": 4,
 "nbformat_minor": 2
}
