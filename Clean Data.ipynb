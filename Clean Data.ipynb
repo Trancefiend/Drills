{
 "cells": [
  {
   "cell_type": "code",
   "execution_count": 1,
   "metadata": {},
   "outputs": [],
   "source": [
    "import pandas as pd\n",
    "import numpy as np"
   ]
  },
  {
   "cell_type": "code",
   "execution_count": 2,
   "metadata": {},
   "outputs": [],
   "source": [
    "thinkful = pd.read_csv('APCThinkful.csv', encoding='latin1')"
   ]
  },
  {
   "cell_type": "code",
   "execution_count": 3,
   "metadata": {},
   "outputs": [],
   "source": [
    "#change last column to Cost in Euros\n",
    "thinkful = thinkful.rename(columns={'COST (£) charged to Wellcome (inc VAT when charged)':'cost_in_GBP'})"
   ]
  },
  {
   "cell_type": "code",
   "execution_count": 4,
   "metadata": {},
   "outputs": [],
   "source": [
    "#remove the GBP and $ symbols from columns and converted them into floats \n",
    "thinkful['cost_in_GBP'] = thinkful['cost_in_GBP'].apply(lambda x: str(x).replace('£', ''))\n",
    "thinkful['cost_in_GBP'] = thinkful['cost_in_GBP'].apply(lambda x: str(x).replace('$', ''))\n",
    "thinkful['cost_in_GBP'] = thinkful['cost_in_GBP'].apply(lambda x: float(x))"
   ]
  },
  {
   "cell_type": "code",
   "execution_count": 5,
   "metadata": {},
   "outputs": [],
   "source": [
    "#capitalize every letter in the journal title for conistency\n",
    "thinkful['Journal title'] = thinkful['Journal title'].apply(lambda x: str(x).upper())"
   ]
  },
  {
   "cell_type": "code",
   "execution_count": 6,
   "metadata": {},
   "outputs": [
    {
     "data": {
      "text/plain": [
       "Journal title\n",
       "PLOS ONE                           190\n",
       "JOURNAL OF BIOLOGICAL CHEMISTRY     53\n",
       "NEUROIMAGE                          29\n",
       "PLOS PATHOGENS                      24\n",
       "PLOS GENETICS                       24\n",
       "dtype: int64"
      ]
     },
     "execution_count": 6,
     "metadata": {},
     "output_type": "execute_result"
    }
   ],
   "source": [
    "#find the 5 most common journals \n",
    "list_slice = thinkful.groupby(['Journal title']).size().sort_values(ascending=False)[:5]\n",
    "list_slice\n"
   ]
  },
  {
   "cell_type": "code",
   "execution_count": 28,
   "metadata": {},
   "outputs": [],
   "source": [
    "journals = list_slice.index\n",
    "plos = thinkful.loc[thinkful['Journal title'] == 'PLOS ONE']\n",
    "plos = plos[plos.cost_in_GBP < 10000]\n",
    "jobc = thinkful.loc[thinkful['Journal title'] == 'JOURNAL OF BIOLOGICAL CHEMISTRY']\n",
    "jobc = jobc[jobc.cost_in_GBP < 10000]\n",
    "neuroimage = thinkful.loc[thinkful['Journal title'] == 'NEUROIMAGE']\n",
    "neuroimage = neuroimage[neuroimage.cost_in_GBP < 10000]\n",
    "pathogens = thinkful.loc[thinkful['Journal title'] == 'PLOS PATHOGENS']\n",
    "pathogens = pathogens[pathogens.cost_in_GBP < 10000]\n",
    "genetics = thinkful.loc[thinkful['Journal title'] == 'PLOS GENETICS']\n",
    "genetics = genetics[genetics.cost_in_GBP < 10000]\n",
    "top_five_journals = [plos, jobc, neuroimage, pathogens, genetics]"
   ]
  },
  {
   "cell_type": "code",
   "execution_count": 33,
   "metadata": {},
   "outputs": [
    {
     "data": {
      "text/html": [
       "<div>\n",
       "<style scoped>\n",
       "    .dataframe tbody tr th:only-of-type {\n",
       "        vertical-align: middle;\n",
       "    }\n",
       "\n",
       "    .dataframe tbody tr th {\n",
       "        vertical-align: top;\n",
       "    }\n",
       "\n",
       "    .dataframe thead th {\n",
       "        text-align: right;\n",
       "    }\n",
       "</style>\n",
       "<table border=\"1\" class=\"dataframe\">\n",
       "  <thead>\n",
       "    <tr style=\"text-align: right;\">\n",
       "      <th></th>\n",
       "      <th>Mean</th>\n",
       "      <th>Median</th>\n",
       "      <th>Standard Deviation</th>\n",
       "    </tr>\n",
       "  </thead>\n",
       "  <tbody>\n",
       "    <tr>\n",
       "      <th>PLoS One</th>\n",
       "      <td>934.655824</td>\n",
       "      <td>896.975</td>\n",
       "      <td>201.847589</td>\n",
       "    </tr>\n",
       "    <tr>\n",
       "      <th>JOURNAL OF BIOLOGICAL CHEMISTRY</th>\n",
       "      <td>1423.588462</td>\n",
       "      <td>1301.140</td>\n",
       "      <td>411.954360</td>\n",
       "    </tr>\n",
       "    <tr>\n",
       "      <th>Neuroimage</th>\n",
       "      <td>2215.168276</td>\n",
       "      <td>2326.430</td>\n",
       "      <td>266.653947</td>\n",
       "    </tr>\n",
       "    <tr>\n",
       "      <th>Pathogens</th>\n",
       "      <td>1572.866818</td>\n",
       "      <td>1600.250</td>\n",
       "      <td>161.780891</td>\n",
       "    </tr>\n",
       "    <tr>\n",
       "      <th>Genetics</th>\n",
       "      <td>1643.110909</td>\n",
       "      <td>1712.730</td>\n",
       "      <td>153.366825</td>\n",
       "    </tr>\n",
       "  </tbody>\n",
       "</table>\n",
       "</div>"
      ],
      "text/plain": [
       "                                        Mean    Median  Standard Deviation\n",
       "PLoS One                          934.655824   896.975          201.847589\n",
       "JOURNAL OF BIOLOGICAL CHEMISTRY  1423.588462  1301.140          411.954360\n",
       "Neuroimage                       2215.168276  2326.430          266.653947\n",
       "Pathogens                        1572.866818  1600.250          161.780891\n",
       "Genetics                         1643.110909  1712.730          153.366825"
      ]
     },
     "execution_count": 33,
     "metadata": {},
     "output_type": "execute_result"
    }
   ],
   "source": [
    "def journal_stats(journal_list):\n",
    "    new_list = []\n",
    "    for x in journal_list:\n",
    "        mean = x['cost_in_GBP'].mean()\n",
    "        median = x['cost_in_GBP'].median()\n",
    "        std = np.std(x['cost_in_GBP'], ddof=1)\n",
    "        new_list.append([mean, median, std])\n",
    "    return new_list\n",
    "\n",
    "stats = journal_stats(top_five_journals)\n",
    "stats = pd.DataFrame(stats)\n",
    "stats.index = ['PLoS One', 'JOURNAL OF BIOLOGICAL CHEMISTRY', 'Neuroimage', 'Pathogens', 'Genetics']\n",
    "stats.columns = ['Mean', 'Median', 'Standard Deviation']\n",
    "stats"
   ]
  },
  {
   "cell_type": "code",
   "execution_count": null,
   "metadata": {},
   "outputs": [],
   "source": []
  }
 ],
 "metadata": {
  "kernelspec": {
   "display_name": "Python 3",
   "language": "python",
   "name": "python3"
  },
  "language_info": {
   "codemirror_mode": {
    "name": "ipython",
    "version": 3
   },
   "file_extension": ".py",
   "mimetype": "text/x-python",
   "name": "python",
   "nbconvert_exporter": "python",
   "pygments_lexer": "ipython3",
   "version": "3.6.3"
  }
 },
 "nbformat": 4,
 "nbformat_minor": 2
}
