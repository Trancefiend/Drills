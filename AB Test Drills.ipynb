{
 "cells": [
  {
   "cell_type": "markdown",
   "metadata": {},
   "source": [
    "1.\tRandomly select 2 equal groups from a widely varying set of people. You set up a double-blind experiment and give one group of people the supplement, and another group of people you give a placebo. Have them take the supplement for several months and have them record the quality of their sleep. You could also measure delta waves, REM sleep, etc. for a more in-depth study.\n",
    "2.\tHopefully our business has data from the last year to compare to. If so, we give employees the new uniforms to wear around the gym, and compare to prior years data where the old uniforms were worn. Separately, we could have the employees wear the new uniforms for a set period of time (week, two weeks, month, etc.) and then switch back to the old uniforms for the same amount of time. Do this repeatedly for several iterations and then compare the two data sets.\n",
    "3.\tWe could utilize a similar approach to the prior example.\n",
    "4.\tRandomly assign your email pool into two groups, then add ‘please read’ to one of the emails being sent to one of the groups, and compare the read rates."
   ]
  }
 ],
 "metadata": {
  "kernelspec": {
   "display_name": "Python 3",
   "language": "python",
   "name": "python3"
  },
  "language_info": {
   "codemirror_mode": {
    "name": "ipython",
    "version": 3
   },
   "file_extension": ".py",
   "mimetype": "text/x-python",
   "name": "python",
   "nbconvert_exporter": "python",
   "pygments_lexer": "ipython3",
   "version": "3.6.3"
  }
 },
 "nbformat": 4,
 "nbformat_minor": 2
}
