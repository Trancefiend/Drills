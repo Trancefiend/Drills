{
 "cells": [
  {
   "cell_type": "code",
   "execution_count": 1,
   "metadata": {},
   "outputs": [],
   "source": [
    "import pandas as pd\n",
    "import numpy as np\n",
    "import statistics"
   ]
  },
  {
   "cell_type": "code",
   "execution_count": 2,
   "metadata": {},
   "outputs": [
    {
     "data": {
      "text/html": [
       "<div>\n",
       "<style scoped>\n",
       "    .dataframe tbody tr th:only-of-type {\n",
       "        vertical-align: middle;\n",
       "    }\n",
       "\n",
       "    .dataframe tbody tr th {\n",
       "        vertical-align: top;\n",
       "    }\n",
       "\n",
       "    .dataframe thead th {\n",
       "        text-align: right;\n",
       "    }\n",
       "</style>\n",
       "<table border=\"1\" class=\"dataframe\">\n",
       "  <thead>\n",
       "    <tr style=\"text-align: right;\">\n",
       "      <th></th>\n",
       "      <th>names</th>\n",
       "      <th>ages</th>\n",
       "    </tr>\n",
       "  </thead>\n",
       "  <tbody>\n",
       "    <tr>\n",
       "      <th>0</th>\n",
       "      <td>Greg</td>\n",
       "      <td>14</td>\n",
       "    </tr>\n",
       "    <tr>\n",
       "      <th>1</th>\n",
       "      <td>Marsha</td>\n",
       "      <td>12</td>\n",
       "    </tr>\n",
       "    <tr>\n",
       "      <th>2</th>\n",
       "      <td>Peter</td>\n",
       "      <td>11</td>\n",
       "    </tr>\n",
       "    <tr>\n",
       "      <th>3</th>\n",
       "      <td>Jan</td>\n",
       "      <td>10</td>\n",
       "    </tr>\n",
       "    <tr>\n",
       "      <th>4</th>\n",
       "      <td>Bobby</td>\n",
       "      <td>8</td>\n",
       "    </tr>\n",
       "    <tr>\n",
       "      <th>5</th>\n",
       "      <td>Cindy</td>\n",
       "      <td>6</td>\n",
       "    </tr>\n",
       "    <tr>\n",
       "      <th>6</th>\n",
       "      <td>Cousin Oliver</td>\n",
       "      <td>8</td>\n",
       "    </tr>\n",
       "  </tbody>\n",
       "</table>\n",
       "</div>"
      ],
      "text/plain": [
       "           names  ages\n",
       "0           Greg    14\n",
       "1         Marsha    12\n",
       "2          Peter    11\n",
       "3            Jan    10\n",
       "4          Bobby     8\n",
       "5          Cindy     6\n",
       "6  Cousin Oliver     8"
      ]
     },
     "execution_count": 2,
     "metadata": {},
     "output_type": "execute_result"
    }
   ],
   "source": [
    "bradys = pd.DataFrame()\n",
    "bradys['names'] = ['Greg', 'Marsha', 'Peter', 'Jan', 'Bobby', 'Cindy', 'Cousin Oliver']\n",
    "bradys['ages'] = [14, 12, 11, 10, 8, 6, 8]\n",
    "bradys\n"
   ]
  },
  {
   "cell_type": "code",
   "execution_count": 3,
   "metadata": {},
   "outputs": [
    {
     "name": "stdout",
     "output_type": "stream",
     "text": [
      "9.85714285714\n",
      "10.0\n",
      "8\n",
      "7.47619047619\n",
      "2.53143502095\n",
      "0.956792503652\n"
     ]
    }
   ],
   "source": [
    "print(np.mean(bradys['ages']))\n",
    "print(np.median(bradys['ages']))\n",
    "print(statistics.mode(bradys['ages']))\n",
    "print(bradys['ages'].var())\n",
    "print(np.std(bradys['ages']))\n",
    "print(np.std(bradys['ages']) / np.sqrt(len(bradys['ages'])))\n",
    "    "
   ]
  },
  {
   "cell_type": "markdown",
   "metadata": {},
   "source": [
    "2. I would pick the mean and standard deviation. The average age of the Brady kids is around 10, and there are about 2 and a half years between the kids on average."
   ]
  },
  {
   "cell_type": "code",
   "execution_count": 4,
   "metadata": {},
   "outputs": [],
   "source": [
    "bradys['ages'] = bradys['ages'].replace(6, 7)"
   ]
  },
  {
   "cell_type": "code",
   "execution_count": 6,
   "metadata": {},
   "outputs": [
    {
     "name": "stdout",
     "output_type": "stream",
     "text": [
      "10.0\n",
      "10.0\n",
      "8\n",
      "6.33333333333\n",
      "2.32992949004\n",
      "0.880630571853\n"
     ]
    }
   ],
   "source": [
    "print(np.mean(bradys['ages']))\n",
    "print(np.median(bradys['ages']))\n",
    "print(statistics.mode(bradys['ages']))\n",
    "print(bradys['ages'].var())\n",
    "print(np.std(bradys['ages']))\n",
    "print(np.std(bradys['ages']) / np.sqrt(len(bradys['ages'])))"
   ]
  },
  {
   "cell_type": "code",
   "execution_count": 8,
   "metadata": {},
   "outputs": [
    {
     "name": "stdout",
     "output_type": "stream",
     "text": [
      "9.0\n",
      "10.0\n",
      "18.0\n",
      "3.92792202425\n",
      "1.48461497792\n"
     ]
    }
   ],
   "source": [
    "bradys['names'] = ['Greg', 'Marsha', 'Peter', 'Jan', 'Bobby', 'Cindy', 'Jessica']\n",
    "bradys['ages'] = [14, 12, 11, 10, 8, 7, 1]\n",
    "print(np.mean(bradys['ages']))\n",
    "print(np.median(bradys['ages']))\n",
    "print(bradys['ages'].var())\n",
    "print(np.std(bradys['ages']))\n",
    "print(np.std(bradys['ages']) / np.sqrt(len(bradys['ages'])))"
   ]
  },
  {
   "cell_type": "code",
   "execution_count": 9,
   "metadata": {},
   "outputs": [
    {
     "data": {
      "text/plain": [
       "20.0"
      ]
     },
     "execution_count": 9,
     "metadata": {},
     "output_type": "execute_result"
    }
   ],
   "source": [
    "np.mean([20, 23, 17])"
   ]
  },
  {
   "cell_type": "code",
   "execution_count": null,
   "metadata": {},
   "outputs": [],
   "source": []
  }
 ],
 "metadata": {
  "kernelspec": {
   "display_name": "Python 3",
   "language": "python",
   "name": "python3"
  },
  "language_info": {
   "codemirror_mode": {
    "name": "ipython",
    "version": 3
   },
   "file_extension": ".py",
   "mimetype": "text/x-python",
   "name": "python",
   "nbconvert_exporter": "python",
   "pygments_lexer": "ipython3",
   "version": "3.6.3"
  }
 },
 "nbformat": 4,
 "nbformat_minor": 2
}
