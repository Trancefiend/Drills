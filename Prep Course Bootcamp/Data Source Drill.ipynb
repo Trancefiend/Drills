{
 "cells": [
  {
   "cell_type": "markdown",
   "metadata": {},
   "source": [
    "1. December 24th is the night before Christmas, where a ton of people are traveling for family and doing activies they only do once a year.\n",
    "\n",
    "2. They day after the September 11th terrorist attacks probably isn't the best day measure mental health in NYC.\n",
    "\n",
    "3. The survey is almost all students between the ages of 18-21. Not a good representative sample. Would be fine if you asked why students visit pubs."
   ]
  }
 ],
 "metadata": {
  "kernelspec": {
   "display_name": "Python 3",
   "language": "python",
   "name": "python3"
  },
  "language_info": {
   "codemirror_mode": {
    "name": "ipython",
    "version": 3
   },
   "file_extension": ".py",
   "mimetype": "text/x-python",
   "name": "python",
   "nbconvert_exporter": "python",
   "pygments_lexer": "ipython3",
   "version": "3.6.3"
  }
 },
 "nbformat": 4,
 "nbformat_minor": 2
}
