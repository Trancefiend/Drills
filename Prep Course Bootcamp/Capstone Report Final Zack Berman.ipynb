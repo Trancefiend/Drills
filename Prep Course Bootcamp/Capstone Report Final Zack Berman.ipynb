{
 "cells": [
  {
   "cell_type": "code",
   "execution_count": 1,
   "metadata": {},
   "outputs": [],
   "source": [
    "import matplotlib.pyplot as plt\n",
    "import pandas as pd\n",
    "import numpy as np\n",
    "import statistics\n",
    "import scipy.stats as stats\n",
    "import pylab\n",
    "%matplotlib inline"
   ]
  },
  {
   "cell_type": "code",
   "execution_count": 2,
   "metadata": {},
   "outputs": [],
   "source": [
    "#import csv cancer file.\n",
    "cancer_df = pd.read_csv('CosmicMutantExport.csv')"
   ]
  },
  {
   "cell_type": "markdown",
   "metadata": {},
   "source": [
    "One of the most fundamental questions to answer before beginning a deeper analysis of this data set is what types of cancer are present in this data set? As you can see in the table below, there are a wide variety of cancers that were present. The occurrences of these cancers range from hundreds of thousands down to a single instance. In order to focus my investigation, I selected the three most common types of cancers in this data set. In this case, the three were large intestinal, skin, and lung cancer, in that order."
   ]
  },
  {
   "cell_type": "code",
   "execution_count": 3,
   "metadata": {},
   "outputs": [
    {
     "data": {
      "text/plain": [
       "Primary site\n",
       "large_intestine                                228696\n",
       "skin                                           153686\n",
       "lung                                           103801\n",
       "liver                                           78347\n",
       "haematopoietic_and_lymphoid_tissue              56167\n",
       "breast                                          49654\n",
       "stomach                                         49111\n",
       "endometrium                                     47781\n",
       "upper_aerodigestive_tract                       40139\n",
       "oesophagus                                      33234\n",
       "thyroid                                         30714\n",
       "prostate                                        24867\n",
       "pancreas                                        21122\n",
       "central_nervous_system                          20622\n",
       "NS                                              19910\n",
       "kidney                                          18820\n",
       "urinary_tract                                   18173\n",
       "ovary                                           11056\n",
       "cervix                                           9854\n",
       "biliary_tract                                    8570\n",
       "soft_tissue                                      8380\n",
       "bone                                             6046\n",
       "small_intestine                                  2302\n",
       "adrenal_gland                                    1995\n",
       "autonomic_ganglia                                1563\n",
       "salivary_gland                                    767\n",
       "parathyroid                                       550\n",
       "pleura                                            483\n",
       "genital_tract                                     450\n",
       "eye                                               385\n",
       "meninges                                          328\n",
       "pituitary                                         326\n",
       "peritoneum                                        270\n",
       "thymus                                            219\n",
       "testis                                            103\n",
       "vulva                                              37\n",
       "gastrointestinal_tract_(site_indeterminate)        21\n",
       "fallopian_tube                                     19\n",
       "penis                                               3\n",
       "retroperitoneum                                     1\n",
       "vagina                                              1\n",
       "paratesticular_tissues                              1\n",
       "pericardium                                         1\n",
       "dtype: int64"
      ]
     },
     "execution_count": 3,
     "metadata": {},
     "output_type": "execute_result"
    }
   ],
   "source": [
    "cancer_df.groupby(['Primary site']).size().sort_values(ascending=False)"
   ]
  },
  {
   "cell_type": "code",
   "execution_count": 4,
   "metadata": {},
   "outputs": [
    {
     "data": {
      "text/plain": [
       "Primary site\n",
       "large_intestine    228696\n",
       "skin               153686\n",
       "lung               103801\n",
       "dtype: int64"
      ]
     },
     "execution_count": 4,
     "metadata": {},
     "output_type": "execute_result"
    }
   ],
   "source": [
    "#group by cancer type, then add all the cases and sort by size, returning the largest 3.\n",
    "cancer_df.groupby(['Primary site']).size().sort_values(ascending=False)[:3]"
   ]
  },
  {
   "cell_type": "markdown",
   "metadata": {},
   "source": [
    "Most data sets have missing data, so data must be processed in a way that that allows for proper analyses. In this case, one of my first objectives was discovering if there were any differences in ages between the primary cancer forms. To do this, I created a function that would pass the type of cancer selected as an argument, and the function would return a new data frame with only the records that had a recorded age in that type of cancer. I then created a function that would iterate the total number of cases, the mean, the standard deviation, and the standard error to a new list from an earlier list of cancer data frames. This list was then turned into an array and subsequently converted into a data frame.\n",
    "\n",
    "The percentage of data loss due to incomplete sets can vary with medical data. As this data comes from several sources, it is likely some of the organizations didn't record any personal demographic data at all, including age. Therefore, a loss of about 25% is not unusual for this type of medical data."
   ]
  },
  {
   "cell_type": "code",
   "execution_count": 5,
   "metadata": {},
   "outputs": [],
   "source": [
    "#Utilize an internal function (lambda) to isolate a single form of cancer.\n",
    "def clean_up(type):\n",
    "    new_df = cancer_df.loc[lambda df: cancer_df['Primary site'] == type]\n",
    "    new_df = new_df[np.isfinite(new_df['Age'])]\n",
    "    return new_df"
   ]
  },
  {
   "cell_type": "code",
   "execution_count": 6,
   "metadata": {},
   "outputs": [],
   "source": [
    "#return 3 clean data frames of lung, skin, and large intestinal cancer.\n",
    "lung_df = clean_up('lung')\n",
    "skin_df = clean_up('skin')\n",
    "lintestine_df = clean_up('large_intestine')\n",
    "\n",
    "cancer_3 = [skin_df, lung_df, lintestine_df]"
   ]
  },
  {
   "cell_type": "code",
   "execution_count": 7,
   "metadata": {},
   "outputs": [
    {
     "data": {
      "text/html": [
       "<div>\n",
       "<style scoped>\n",
       "    .dataframe tbody tr th:only-of-type {\n",
       "        vertical-align: middle;\n",
       "    }\n",
       "\n",
       "    .dataframe tbody tr th {\n",
       "        vertical-align: top;\n",
       "    }\n",
       "\n",
       "    .dataframe thead th {\n",
       "        text-align: right;\n",
       "    }\n",
       "</style>\n",
       "<table border=\"1\" class=\"dataframe\">\n",
       "  <thead>\n",
       "    <tr style=\"text-align: right;\">\n",
       "      <th></th>\n",
       "      <th>Percent Lost</th>\n",
       "    </tr>\n",
       "  </thead>\n",
       "  <tbody>\n",
       "    <tr>\n",
       "      <th>Lung Cancer</th>\n",
       "      <td>25.8%</td>\n",
       "    </tr>\n",
       "    <tr>\n",
       "      <th>Skin Cancer</th>\n",
       "      <td>23.9%</td>\n",
       "    </tr>\n",
       "    <tr>\n",
       "      <th>Large Intestine Cancer</th>\n",
       "      <td>26.3%</td>\n",
       "    </tr>\n",
       "  </tbody>\n",
       "</table>\n",
       "</div>"
      ],
      "text/plain": [
       "                       Percent Lost\n",
       "Lung Cancer                   25.8%\n",
       "Skin Cancer                   23.9%\n",
       "Large Intestine Cancer        26.3%"
      ]
     },
     "execution_count": 7,
     "metadata": {},
     "output_type": "execute_result"
    }
   ],
   "source": [
    "#calculate the percent of cases that were removed due to not having an age during the clean function.\n",
    "def total_loss(c_type, datafr):\n",
    "    total = cancer_df.groupby('Primary site')['Gene name'].count().loc[c_type]\n",
    "    ind = datafr.groupby('Primary site')['Age'].count().loc[c_type]\n",
    "    #returns only the first 4 characters of the percent, for aesthetics.\n",
    "    return str((1 - (ind / total)) * 100)[:4] + '%'\n",
    "    \n",
    "lost_list = pd.DataFrame([total_loss('lung', lung_df), total_loss('skin', skin_df), total_loss('large_intestine', lintestine_df)])\n",
    "lost_list.index= ['Lung Cancer', 'Skin Cancer', 'Large Intestine Cancer']\n",
    "lost_list.columns = ['Percent Lost']\n",
    "lost_list"
   ]
  },
  {
   "cell_type": "code",
   "execution_count": 8,
   "metadata": {
    "scrolled": true
   },
   "outputs": [],
   "source": [
    "#rather than using the describe function, I created my own function that would include count and standard error.\n",
    "#the count or number of samples is relevant to the standard error.\n",
    "def cancer_stats(c_list):\n",
    "    new_list = []\n",
    "    for x in c_list:\n",
    "        count = x['Age'].count()\n",
    "        mean = x['Age'].mean()\n",
    "        std = np.std(x['Age'], ddof=1)\n",
    "        se = std / np.sqrt(len(x['Age']))\n",
    "        new_list.append([count, mean, std, se])\n",
    "    return new_list"
   ]
  },
  {
   "cell_type": "code",
   "execution_count": 9,
   "metadata": {},
   "outputs": [
    {
     "data": {
      "text/html": [
       "<div>\n",
       "<style scoped>\n",
       "    .dataframe tbody tr th:only-of-type {\n",
       "        vertical-align: middle;\n",
       "    }\n",
       "\n",
       "    .dataframe tbody tr th {\n",
       "        vertical-align: top;\n",
       "    }\n",
       "\n",
       "    .dataframe thead th {\n",
       "        text-align: right;\n",
       "    }\n",
       "</style>\n",
       "<table border=\"1\" class=\"dataframe\">\n",
       "  <thead>\n",
       "    <tr style=\"text-align: right;\">\n",
       "      <th></th>\n",
       "      <th>Count</th>\n",
       "      <th>Mean</th>\n",
       "      <th>Standard Deviation</th>\n",
       "      <th>Standard Error</th>\n",
       "    </tr>\n",
       "  </thead>\n",
       "  <tbody>\n",
       "    <tr>\n",
       "      <th>Skin</th>\n",
       "      <td>116928.0</td>\n",
       "      <td>63.666873</td>\n",
       "      <td>15.198847</td>\n",
       "      <td>0.044448</td>\n",
       "    </tr>\n",
       "    <tr>\n",
       "      <th>Lung</th>\n",
       "      <td>76962.0</td>\n",
       "      <td>64.384129</td>\n",
       "      <td>9.813494</td>\n",
       "      <td>0.035374</td>\n",
       "    </tr>\n",
       "    <tr>\n",
       "      <th>Large Intestine</th>\n",
       "      <td>168367.0</td>\n",
       "      <td>68.010699</td>\n",
       "      <td>11.870562</td>\n",
       "      <td>0.028930</td>\n",
       "    </tr>\n",
       "  </tbody>\n",
       "</table>\n",
       "</div>"
      ],
      "text/plain": [
       "                    Count       Mean  Standard Deviation  Standard Error\n",
       "Skin             116928.0  63.666873           15.198847        0.044448\n",
       "Lung              76962.0  64.384129            9.813494        0.035374\n",
       "Large Intestine  168367.0  68.010699           11.870562        0.028930"
      ]
     },
     "execution_count": 9,
     "metadata": {},
     "output_type": "execute_result"
    }
   ],
   "source": [
    "#a function designed to use the cancer stat function and create a dataframe from a list of cancers.\n",
    "def create_df(c_list):\n",
    "    stats_array = np.array(cancer_stats(c_list))\n",
    "    stats_df = pd.DataFrame(stats_array)\n",
    "    return stats_df\n",
    "\n",
    "cancer3_df = create_df(cancer_3)\n",
    "cancer3_df.index = ['Skin', 'Lung', 'Large Intestine']\n",
    "cancer3_df.columns = ['Count', 'Mean', 'Standard Deviation', 'Standard Error']\n",
    "cancer3_df"
   ]
  },
  {
   "cell_type": "code",
   "execution_count": 10,
   "metadata": {},
   "outputs": [
    {
     "name": "stdout",
     "output_type": "stream",
     "text": [
      "Ttest_indResult(statistic=-0.51498719670437487, pvalue=0.60795815903824479)\n"
     ]
    }
   ],
   "source": [
    "#import t-test from scipy\n",
    "from scipy.stats import ttest_ind\n",
    "\n",
    "#seed the random number selection and choose 50 samples from each cancer data frame\n",
    "np.random.seed(1337)\n",
    "lung_sample = np.random.choice(lung_df['Age'], size=50, replace=True)\n",
    "skin_sample = np.random.choice(skin_df['Age'], size=50, replace=True)\n",
    "intestinal_sample = np.random.choice(lintestine_df['Age'], size=50, replace=True)\n",
    "#run a test between all 3 cancer types\n",
    "t_test = ttest_ind(skin_sample, lung_sample, equal_var=False)\n",
    "print(t_test)"
   ]
  },
  {
   "cell_type": "code",
   "execution_count": 11,
   "metadata": {
    "scrolled": true
   },
   "outputs": [
    {
     "name": "stdout",
     "output_type": "stream",
     "text": [
      "Ttest_indResult(statistic=-1.1761592781102956, pvalue=0.24312085412659951)\n"
     ]
    }
   ],
   "source": [
    "t_test2 = ttest_ind(skin_sample, intestinal_sample, equal_var=False)\n",
    "print(t_test2)"
   ]
  },
  {
   "cell_type": "code",
   "execution_count": 12,
   "metadata": {},
   "outputs": [
    {
     "name": "stdout",
     "output_type": "stream",
     "text": [
      "Ttest_indResult(statistic=-0.89434441535940479, pvalue=0.3733415360962461)\n"
     ]
    }
   ],
   "source": [
    "t_test3 = ttest_ind(lung_sample, intestinal_sample, equal_var=False)\n",
    "print(t_test3)"
   ]
  },
  {
   "cell_type": "markdown",
   "metadata": {},
   "source": [
    "In the table above, you can see there are significant differences amongst the types of cancers. The average age of a person with cancer of the large intestine is four and a half years older than the average age of a person with skin cancer. What stands out most to me are the differences in standard deviation. Lung cancers are 33% less variable from the mean than skin cancers. This indicates that skin cancers can be more prevalent at any age, while lung cancers are more likely to form in a narrower age range. The standard errors of all of our samples were extremely low, which can be explained by the very large sample size we are utilizing. To get a better look at the impact of standard error, it will be important to use a smaller sample. We will be looking at more in depth, smaller samples later. Also, while a t-test might not be the best choice for this data set, they were run to determine if there were any significant differences between the distributions of the ages for our three forms of cancer. The p-values from the t-tests show that the distributions of ages are not significantly different at a significance level below 5%. Visualizing the data is equally important to knowing the descriptive statistics. Below, you can see each cancer type’s age distributions as a histogram."
   ]
  },
  {
   "cell_type": "code",
   "execution_count": 13,
   "metadata": {
    "scrolled": true
   },
   "outputs": [
    {
     "data": {
      "image/png": "[encoded data removed]",
      "text/plain": [
       "<matplotlib.figure.Figure at 0x295ae890>"
      ]
     },
     "metadata": {},
     "output_type": "display_data"
    }
   ],
   "source": [
    "#creates histograms of the cancer list previously defined\n",
    "def main_plt():\n",
    "    plt.figure(figsize=(15, 5))\n",
    "    cancers = [skin_df, lung_df, lintestine_df]\n",
    "    colors = ['blue', 'red', 'green']\n",
    "    n = 1\n",
    "    y = 0\n",
    "    #set variable titles equal to the indexes of the cancer_3 list\n",
    "    titles = [x.replace(x, x + ' Cancer') for x in cancer3_df.index.values] \n",
    "    for cancer in cancers:\n",
    "        plt.subplot(1, 3, n)\n",
    "        plt.hist(cancer['Age'], bins = 30, color=colors[y]) \n",
    "        plt.xlabel('Age')\n",
    "        plt.ylabel('Cancer Cases')\n",
    "        plt.title(titles[y])\n",
    "        n += 1\n",
    "        y += 1 \n",
    "    plt.tight_layout()\n",
    "    plt.show()\n",
    "    \n",
    "    \n",
    "main_plt()  \n",
    "    "
   ]
  },
  {
   "cell_type": "markdown",
   "metadata": {},
   "source": [
    "Immediately we see that none of our distributions are perfectly normal. At varying levels, all of the forms of cancer skewed to the left. In the skin and lung cancer distributions, we also see the formation of a bimodal distribution, with a spike in the population before 40 and 50 respectively. These distributions can be attributed to lifestyle choices. We know that excess UV exposure and smoking can cause abnormally high rates of cancer in younger individuals. A follow up study would be to isolate those particular age ranges and compare them to the total population to see if any differences emerge. As an additional note, while selecting bin size can be done via formula (square-root choice, etc.), a bin size of 30 was selected via trial and error."
   ]
  },
  {
   "cell_type": "code",
   "execution_count": 14,
   "metadata": {
    "scrolled": true
   },
   "outputs": [
    {
     "data": {
      "image/png": "[encoded data removed]",
      "text/plain": [
       "<matplotlib.figure.Figure at 0x29688eb0>"
      ]
     },
     "metadata": {},
     "output_type": "display_data"
    }
   ],
   "source": [
    "#a function that samples 5000 values from each unique cancer data frame and returns a qq plot\n",
    "#5000 values was less than 10% of the total sample for each data set, but returned similar plot shapes\n",
    "def qq_plot():\n",
    "    norm = np.random.normal(0, 1, 5000)\n",
    "    norm.sort()\n",
    "    plt.figure(figsize=(15, 5))\n",
    "    cancers = [skin_df, lung_df, lintestine_df]\n",
    "    colors = ['blue', 'red', 'green']\n",
    "    n = 1\n",
    "    y = 0\n",
    "    titles = [x.replace(x, x + ' Cancer') for x in cancer3_df.index.values]\n",
    "    for cancer in cancers:\n",
    "        #selecting 5000 random samples then sorting them\n",
    "        a = cancer_random = np.random.choice(cancer['Age'], 5000, replace=True)\n",
    "        cancer_random.sort()\n",
    "        plt.subplot(1, 3, n)\n",
    "        # creating the q-q plot\n",
    "        plt.plot(norm, cancer_random, 'o', color=colors[y])\n",
    "        #creating a regression line fit to the plot\n",
    "        z = np.polyfit(norm, a, 1)\n",
    "        p = np.poly1d(z)\n",
    "        pylab.plot(norm,p(norm),color='black')\n",
    "        plt.title(titles[y])\n",
    "        plt.ylabel('Observational Values')\n",
    "        plt.xlabel('Theoretical Values')\n",
    "        n += 1\n",
    "        y += 1\n",
    "    plt.tight_layout()\n",
    "    plt.show()\n",
    "\n",
    "qq_plot()"
   ]
  },
  {
   "cell_type": "markdown",
   "metadata": {},
   "source": [
    "There are several interesting observations that can be made from the q-q plots above. First, the upward bend of the plot indicates that all the cancer sets have some leftward skew to them, in varying levels. Cancers of the large intestine display the most amount of leftward skew. Also, all of the cancers seem to have a hard ceiling of around 90 years old. This is likely due to the fact that treatments for cancers late in life are often more lethal than the cancers themselves. The survival rate of cancer at age 90 or above is almost zero. Also, while large intestinal and lung cancers seem to have a hard floor around 30, skin cancers do not. This is likely due to a combination of genetic factors and extended sun exposure at a very young age."
   ]
  },
  {
   "cell_type": "code",
   "execution_count": 15,
   "metadata": {},
   "outputs": [],
   "source": [
    "#creates two functions, one for cancers under the age of 40, more likely to be associated with lifestyle choices,\n",
    "#and another for cancers presenting at 70 or higher, more likely due to aging.\n",
    "def lifestyle(cancers):\n",
    "    new_df = cancers.loc[lambda df: cancers['Age'] < 41]\n",
    "    return new_df\n",
    "\n",
    "def age(cancers):\n",
    "    new_df = cancers.loc[lambda df: cancers['Age'] > 69]\n",
    "    return new_df\n",
    "\n",
    "#returning an array of people with skin cancer 40 and under, and another for people 70 and over.\n",
    "under_40 = lifestyle(skin_df)\n",
    "over_70 = age(skin_df)"
   ]
  },
  {
   "cell_type": "markdown",
   "metadata": {},
   "source": [
    "Continuing with the follow up mentioned previously, functions were created to isolate two age ranges. The first was for people who had cancer, in this case skin cancer, under the age of 40. Prevalence of cancer at this age is extremely likely to be caused by lifestyle choices, in this case normally an excess of UV exposure. The second function isolated skin cancers formed after the age of 70, at which time the cancer's origin was likely due to age and not so much lifestyle (although excessive UV exposure at a younger age increases your likelihood of getting skin cancer when you are older.)"
   ]
  },
  {
   "cell_type": "code",
   "execution_count": 16,
   "metadata": {
    "scrolled": true
   },
   "outputs": [],
   "source": [
    "#groups the two previous arrays by the predicted site of the carcenoginic mutation and creates a dataframe.\n",
    "def mutation(data_set):\n",
    "    new_df = data_set.groupby(['Mutation AA']).size().sort_values(ascending=False)[:10]\n",
    "    return new_df\n",
    "\n",
    "skin_70 = pd.DataFrame(mutation(over_70),\n",
    "                       columns=['> 70'])\n",
    "skin_40 = pd.DataFrame(mutation(under_40),\n",
    "                       columns=['< 40'])"
   ]
  },
  {
   "cell_type": "markdown",
   "metadata": {},
   "source": [
    "It is vital to see if there are differences in mutation locations for people who have lifestyle-induced cancers vs age-induced cancers. Primary analysis of predicted mutation locus will return =?, meaning the algorithm cannot determine the site of the mutation as the most populated result. As unknown sites aren't useful for us in this analysis, I have removed that grouping from the results so we can better see the 10 most prevalent mutation sites. The primary mutation site in both people over 70 and under 40 is at p.V600E, although the distributions vary enormously. In individuals with skin cancer under 40, the p.V600E locus appears approximately 400% more than the second highest site, whereas in individuals over 70, it is just 10% higher. Also, outside of sharing the highest mutation locus, none of the remaining nine loci are shared between the two groups. The causational mutation sites between the two groups are astoundingly unique."
   ]
  },
  {
   "cell_type": "code",
   "execution_count": 17,
   "metadata": {},
   "outputs": [
    {
     "data": {
      "image/png": "[encoded data removed]",
      "text/plain": [
       "<matplotlib.figure.Figure at 0x295aee30>"
      ]
     },
     "metadata": {},
     "output_type": "display_data"
    }
   ],
   "source": [
    "#creates two bargraphs comparing the sites of mutations for people under 40 and over 70.\n",
    "plt.figure(figsize=(15, 5))\n",
    "\n",
    "objects = skin_70.index\n",
    "objects2 = skin_40.index\n",
    "y_pos = np.arange(len(objects) - 1)\n",
    "\n",
    "plt.subplot(1, 2, 1)\n",
    "plt.bar(y_pos, skin_70['> 70'][1:], align='center', alpha=0.5, color='purple')\n",
    "plt.xticks(y_pos, objects[1:], rotation='vertical')\n",
    "plt.ylabel('Mutation Cases')\n",
    "plt.title('Mutation Sites in Cases Over 70')\n",
    "\n",
    "plt.subplot(1, 2, 2)\n",
    "plt.bar(y_pos, skin_40['< 40'][1:], align='center', alpha=0.5, color='blue')\n",
    "plt.xticks(y_pos, objects2[1:], rotation='vertical')\n",
    "plt.ylabel('Mutation Cases')\n",
    "plt.title('Mutation Sites in Cases Under 40')\n",
    "\n",
    "plt.show()\n"
   ]
  },
  {
   "cell_type": "code",
   "execution_count": 18,
   "metadata": {},
   "outputs": [],
   "source": [
    "#return the percentage of the whole a particular gene makes up, ignoring the first gene\n",
    "def percent_total(data_frame, gene):\n",
    "    return data_frame.loc[gene] / data_frame[1:].sum()"
   ]
  },
  {
   "cell_type": "code",
   "execution_count": 19,
   "metadata": {
    "scrolled": true
   },
   "outputs": [
    {
     "data": {
      "text/plain": [
       "> 70    0.20904\n",
       "dtype: float64"
      ]
     },
     "execution_count": 19,
     "metadata": {},
     "output_type": "execute_result"
    }
   ],
   "source": [
    "percent_total(skin_70, 'p.V600E')"
   ]
  },
  {
   "cell_type": "code",
   "execution_count": 20,
   "metadata": {},
   "outputs": [
    {
     "data": {
      "text/plain": [
       "< 40    0.551515\n",
       "dtype: float64"
      ]
     },
     "execution_count": 20,
     "metadata": {},
     "output_type": "execute_result"
    }
   ],
   "source": [
    "percent_total(skin_40, 'p.V600E')"
   ]
  },
  {
   "cell_type": "markdown",
   "metadata": {},
   "source": [
    "The ability to differentiate between cancers caused by lifestyle and age may allow us to better predict and potentially protect individuals from developing tumors before they can become cancerous. A deeper and more in-depth analysis may allow us to inform individuals when they are at risk for skin cancers, before tumors even develop. Further research should be done surrounding these specific gene locations. A comparison of genomes between cancer patients and healthy individuals could provide clues as to genomic \"weaknesses\" that could increase the likelihood of developing skin cancer. Also, yearly genomic analysis, including during checkups, could warn doctors that a patient may have developed a dangerous mutation. Eventually, using genomic editing, we may be able to reverse these mutations as they occur, protecting individuals from dangerous mutations. Combining data science with modern medicine, we stand on the forefront of saving lives."
   ]
  }
 ],
 "metadata": {
  "kernelspec": {
   "display_name": "Python 3",
   "language": "python",
   "name": "python3"
  },
  "language_info": {
   "codemirror_mode": {
    "name": "ipython",
    "version": 3
   },
   "file_extension": ".py",
   "mimetype": "text/x-python",
   "name": "python",
   "nbconvert_exporter": "python",
   "pygments_lexer": "ipython3",
   "version": "3.6.3"
  }
 },
 "nbformat": 4,
 "nbformat_minor": 2
}
