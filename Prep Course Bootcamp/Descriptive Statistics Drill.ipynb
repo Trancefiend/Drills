{
 "cells": [
  {
   "cell_type": "code",
   "execution_count": 1,
   "metadata": {},
   "outputs": [],
   "source": [
    "import matplotlib.pyplot as plt\n",
    "import pandas as pd\n",
    "import numpy as np\n",
    "%matplotlib inline"
   ]
  },
  {
   "cell_type": "code",
   "execution_count": 2,
   "metadata": {},
   "outputs": [
    {
     "name": "stdout",
     "output_type": "stream",
     "text": [
      "2.24944617277\n",
      "4.79892906572\n"
     ]
    },
    {
     "data": {
      "image/png": "[encoded data removed]",
      "text/plain": [
       "<matplotlib.figure.Figure at 0x76216f0>"
      ]
     },
     "metadata": {},
     "output_type": "display_data"
    }
   ],
   "source": [
    "rand_normal = np.random.normal(3, 5, 100)\n",
    "plt.hist(rand_normal, bins = 20)\n",
    "plt.axvline(rand_normal.mean(), color = 'b', linestyle='solid', linewidth=2)\n",
    "plt.axvline(rand_normal.mean()-rand_normal.std(), color ='b', linestyle='dashed', linewidth=2)\n",
    "plt.axvline(rand_normal.mean()+rand_normal.std(), color ='b', linestyle='dashed', linewidth=2)\n",
    "print(rand_normal.mean())\n",
    "print(rand_normal.std())\n",
    "\n",
    "plt.show()"
   ]
  },
  {
   "cell_type": "code",
   "execution_count": 3,
   "metadata": {},
   "outputs": [
    {
     "name": "stdout",
     "output_type": "stream",
     "text": [
      "15.0123545754\n",
      "8.54829341476\n"
     ]
    },
    {
     "data": {
      "image/png": "[encoded data removed]",
      "text/plain": [
       "<matplotlib.figure.Figure at 0x76212b0>"
      ]
     },
     "metadata": {},
     "output_type": "display_data"
    }
   ],
   "source": [
    "rand_gamma = np.random.gamma(3, 5, 100)\n",
    "plt.hist(rand_gamma, bins = 20)\n",
    "plt.axvline(rand_gamma.mean(), color = 'b', linestyle='solid', linewidth=2)\n",
    "plt.axvline(rand_gamma.mean()-rand_gamma.std(), color ='b', linestyle='dashed', linewidth=2)\n",
    "plt.axvline(rand_gamma.mean()+rand_gamma.std(), color ='b', linestyle='dashed', linewidth=2)\n",
    "print(rand_gamma.mean())\n",
    "print(rand_gamma.std())\n",
    "\n",
    "plt.show()"
   ]
  },
  {
   "cell_type": "code",
   "execution_count": 4,
   "metadata": {},
   "outputs": [
    {
     "name": "stdout",
     "output_type": "stream",
     "text": [
      "26641.9281955\n",
      "148510.746046\n"
     ]
    },
    {
     "data": {
      "image/png": "[encoded data removed]",
      "text/plain": [
       "<matplotlib.figure.Figure at 0x76210d0>"
      ]
     },
     "metadata": {},
     "output_type": "display_data"
    }
   ],
   "source": [
    "rand_log = np.random.lognormal(3, 5, 100)\n",
    "plt.hist(rand_log, bins = 20)\n",
    "plt.axvline(rand_log.mean(), color = 'b', linestyle='solid', linewidth=2)\n",
    "plt.axvline(rand_log.mean()-rand_log.std(), color ='b', linestyle='dashed', linewidth=2)\n",
    "plt.axvline(rand_log.mean()+rand_log.std(), color ='b', linestyle='dashed', linewidth=2)\n",
    "print(rand_log.mean())\n",
    "print(rand_log.std())\n",
    "\n",
    "plt.show()"
   ]
  },
  {
   "cell_type": "code",
   "execution_count": 7,
   "metadata": {},
   "outputs": [
    {
     "name": "stdout",
     "output_type": "stream",
     "text": [
      "3.2\n",
      "1.86010752377\n"
     ]
    },
    {
     "data": {
      "image/png": "[encoded data removed]",
      "text/plain": [
       "<matplotlib.figure.Figure at 0x8eb750>"
      ]
     },
     "metadata": {},
     "output_type": "display_data"
    }
   ],
   "source": [
    "rand_pois = np.random.poisson(3, 20)\n",
    "plt.hist(rand_pois, bins = 20)\n",
    "plt.axvline(rand_pois.mean(), color = 'b', linestyle='solid', linewidth=2)\n",
    "plt.axvline(rand_pois.mean()-rand_pois.std(), color ='b', linestyle='dashed', linewidth=2)\n",
    "plt.axvline(rand_pois.mean()+rand_pois.std(), color ='b', linestyle='dashed', linewidth=2)\n",
    "print(rand_pois.mean())\n",
    "print(rand_pois.std())\n",
    "\n",
    "plt.show()"
   ]
  },
  {
   "cell_type": "code",
   "execution_count": 10,
   "metadata": {},
   "outputs": [
    {
     "name": "stdout",
     "output_type": "stream",
     "text": [
      "16.049\n",
      "1.80792671312\n"
     ]
    },
    {
     "data": {
      "image/png": "[encoded data removed]",
      "text/plain": [
       "<matplotlib.figure.Figure at 0x902c90>"
      ]
     },
     "metadata": {},
     "output_type": "display_data"
    }
   ],
   "source": [
    "rand_bi = np.random.binomial(20, .8, 1000)\n",
    "plt.hist(rand_bi, bins = 20)\n",
    "plt.axvline(rand_bi.mean(), color = 'b', linestyle='solid', linewidth=2)\n",
    "plt.axvline(rand_bi.mean()-rand_bi.std(), color ='b', linestyle='dashed', linewidth=2)\n",
    "plt.axvline(rand_bi.mean()+rand_bi.std(), color ='b', linestyle='dashed', linewidth=2)\n",
    "print(rand_bi.mean())\n",
    "print(rand_bi.std())\n",
    "\n",
    "plt.show()"
   ]
  },
  {
   "cell_type": "code",
   "execution_count": 12,
   "metadata": {},
   "outputs": [
    {
     "name": "stdout",
     "output_type": "stream",
     "text": [
      "-0.0402055404529\n",
      "1.06852940411\n"
     ]
    },
    {
     "data": {
      "image/png": "[encoded data removed]",
      "text/plain": [
       "<matplotlib.figure.Figure at 0x7709c10>"
      ]
     },
     "metadata": {},
     "output_type": "display_data"
    }
   ],
   "source": [
    "rand_t = np.random.standard_t(20, 1000)\n",
    "plt.hist(rand_t, bins = 20)\n",
    "plt.axvline(rand_t.mean(), color = 'b', linestyle='solid', linewidth=2)\n",
    "plt.axvline(rand_t.mean()-rand_t.std(), color ='b', linestyle='dashed', linewidth=2)\n",
    "plt.axvline(rand_t.mean()+rand_t.std(), color ='b', linestyle='dashed', linewidth=2)\n",
    "print(rand_t.mean())\n",
    "print(rand_t.std())\n",
    "\n",
    "plt.show()"
   ]
  },
  {
   "cell_type": "code",
   "execution_count": 22,
   "metadata": {},
   "outputs": [],
   "source": [
    "v1 = np.random.normal(5, .5, 1000)\n",
    "v2 = np.random.normal(10, 1, 1000)\n",
    "v3 = var1 + var2\n",
    "\n",
    "mean = np.mean(var3)\n",
    "sd = np.std(var3)"
   ]
  },
  {
   "cell_type": "code",
   "execution_count": 29,
   "metadata": {
    "scrolled": true
   },
   "outputs": [
    {
     "data": {
      "image/png": "[encoded data removed]",
      "text/plain": [
       "<matplotlib.figure.Figure at 0xbd6f90>"
      ]
     },
     "metadata": {},
     "output_type": "display_data"
    }
   ],
   "source": [
    "plt.hist(v3, bins = 20, color = 'orange')\n",
    "plt.axvline(mean, color='black')\n",
    "plt.axvline(mean + sd, color = 'purple', linestyle = 'dashed')\n",
    "plt.axvline(mean - sd, color = 'purple', linestyle = 'dashed')\n",
    "\n",
    "plt.show()"
   ]
  },
  {
   "cell_type": "code",
   "execution_count": null,
   "metadata": {},
   "outputs": [],
   "source": []
  }
 ],
 "metadata": {
  "kernelspec": {
   "display_name": "Python 3",
   "language": "python",
   "name": "python3"
  },
  "language_info": {
   "codemirror_mode": {
    "name": "ipython",
    "version": 3
   },
   "file_extension": ".py",
   "mimetype": "text/x-python",
   "name": "python",
   "nbconvert_exporter": "python",
   "pygments_lexer": "ipython3",
   "version": "3.6.3"
  }
 },
 "nbformat": 4,
 "nbformat_minor": 2
}
