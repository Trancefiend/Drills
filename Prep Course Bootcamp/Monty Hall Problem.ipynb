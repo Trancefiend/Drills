{
 "cells": [
  {
   "cell_type": "markdown",
   "metadata": {},
   "source": [
    "You should always switch the door. When I was first asked the question, I have a 1/3 chance of having the prize behind my door and a 2/3 chance of it being behind the other doors. When the host opens one of the other doors to show that it is a dud, that 2/3 chance of having the prize goes exclusively to the door I have not selected.\n",
    "\n",
    "There is a zero percent chance Monty opens the door with the car behind it the first time, ergo there is a 100% chance that Monty opens a door with a dud. That leaves me with a 50/50 chance of having the car behind my door. However, we have to take into accoutn the initial conditions of the game:\n",
    "\n",
    "p = (p(A|B) * p(A)) / p(B)\n",
    "p = (1 * 1/3) / (1/2)\n",
    "p = (2 / 3)"
   ]
  }
 ],
 "metadata": {
  "kernelspec": {
   "display_name": "Python 3",
   "language": "python",
   "name": "python3"
  },
  "language_info": {
   "codemirror_mode": {
    "name": "ipython",
    "version": 3
   },
   "file_extension": ".py",
   "mimetype": "text/x-python",
   "name": "python",
   "nbconvert_exporter": "python",
   "pygments_lexer": "ipython3",
   "version": "3.6.3"
  }
 },
 "nbformat": 4,
 "nbformat_minor": 2
}
