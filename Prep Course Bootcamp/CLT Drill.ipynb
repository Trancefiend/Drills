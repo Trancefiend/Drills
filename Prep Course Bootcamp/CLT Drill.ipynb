{
 "cells": [
  {
   "cell_type": "code",
   "execution_count": 2,
   "metadata": {},
   "outputs": [],
   "source": [
    "import matplotlib.pyplot as plt\n",
    "import pandas as pd\n",
    "import numpy as np\n",
    "%matplotlib inline"
   ]
  },
  {
   "cell_type": "code",
   "execution_count": 3,
   "metadata": {},
   "outputs": [
    {
     "name": "stdout",
     "output_type": "stream",
     "text": [
      "1.87\n",
      "1.23818415432\n",
      "4.92\n",
      "1.39053946366\n"
     ]
    },
    {
     "data": {
      "image/png": "[encoded data removed]",
      "text/plain": [
       "<matplotlib.figure.Figure at 0x89764f0>"
      ]
     },
     "metadata": {},
     "output_type": "display_data"
    }
   ],
   "source": [
    "pop1 = np.random.binomial(10, .2, 10000)\n",
    "pop2 = np.random.binomial(10, .5, 10000)\n",
    "sample1 = np.random.choice(pop1, 100, replace=True)\n",
    "sample2 = np.random.choice(pop2, 100, replace=True)\n",
    "print(sample1.mean())\n",
    "print(sample1.std())\n",
    "print(sample2.mean())\n",
    "print(sample2.std())\n",
    "\n",
    "plt.hist(sample1)\n",
    "plt.hist(sample2)\n",
    "\n",
    "plt.show()"
   ]
  },
  {
   "cell_type": "code",
   "execution_count": 4,
   "metadata": {},
   "outputs": [
    {
     "name": "stdout",
     "output_type": "stream",
     "text": [
      "1.966\n",
      "1.26207923682\n",
      "5.073\n",
      "1.51844361107\n"
     ]
    },
    {
     "data": {
      "image/png": "[encoded data removed]",
      "text/plain": [
       "<matplotlib.figure.Figure at 0x8976210>"
      ]
     },
     "metadata": {},
     "output_type": "display_data"
    }
   ],
   "source": [
    "sample3 = np.random.choice(pop1, 1000, replace=True)\n",
    "sample4 = np.random.choice(pop2, 1000, replace=True)\n",
    "print(sample3.mean())\n",
    "print(sample3.std())\n",
    "print(sample4.mean())\n",
    "print(sample4.std())\n",
    "\n",
    "plt.hist(sample3)\n",
    "plt.hist(sample4)\n",
    "\n",
    "plt.show()"
   ]
  },
  {
   "cell_type": "code",
   "execution_count": 4,
   "metadata": {},
   "outputs": [
    {
     "name": "stdout",
     "output_type": "stream",
     "text": [
      "1.998\n",
      "1.29073467452\n",
      "5.073\n",
      "1.55424290251\n"
     ]
    },
    {
     "data": {
      "image/png": "[encoded data removed]",
      "text/plain": [
       "<matplotlib.figure.Figure at 0x8251190>"
      ]
     },
     "metadata": {},
     "output_type": "display_data"
    }
   ],
   "source": [
    "sample5 = np.random.choice(pop1, 20, replace=True)\n",
    "sample6 = np.random.choice(pop2, 20, replace=True)\n",
    "print(sample3.mean())\n",
    "print(sample3.std())\n",
    "print(sample4.mean())\n",
    "print(sample4.std())\n",
    "\n",
    "plt.hist(sample5)\n",
    "plt.hist(sample6)\n",
    "\n",
    "plt.show()"
   ]
  },
  {
   "cell_type": "code",
   "execution_count": 8,
   "metadata": {},
   "outputs": [
    {
     "name": "stdout",
     "output_type": "stream",
     "text": [
      "2.99\n",
      "1.39638819817\n",
      "3.99\n",
      "1.54593014072\n",
      "-4.80026421381\n",
      "Ttest_indResult(statistic=4.7762025875371101, pvalue=3.4928336172565207e-06)\n"
     ]
    }
   ],
   "source": [
    "popt = np.random.binomial(10, .3, 10000)\n",
    "popt2 = np.random.binomial(10, .4, 10000)\n",
    "samplet = np.random.choice(popt, 100, replace=True)\n",
    "samplet2 = np.random.choice(popt2, 100, replace=True)\n",
    "print(samplet.mean())\n",
    "print(samplet.std())\n",
    "print(samplet2.mean())\n",
    "print(samplet2.std())\n",
    "\n",
    "pop_diff = samplet.mean() - samplet2.mean()\n",
    "size = np.array([len(samplet), len(samplet2)])\n",
    "sd = np.array([samplet.std(), samplet2.std()])\n",
    "\n",
    "diff_standarderror = (sum((sd ** 2) / size)) ** .5\n",
    "\n",
    "print(pop_diff / diff_standarderror)\n",
    "\n",
    "from scipy.stats import ttest_ind\n",
    "print(ttest_ind(samplet2, samplet, equal_var=False))"
   ]
  },
  {
   "cell_type": "code",
   "execution_count": 9,
   "metadata": {},
   "outputs": [
    {
     "name": "stdout",
     "output_type": "stream",
     "text": [
      "9.97491526262\n",
      "0.304931543694\n",
      "9.99951542571\n",
      "0.391771834499\n",
      "-0.495515619586\n",
      "Ttest_indResult(statistic=0.49303181637835608, pvalue=0.62256934485848259)\n"
     ]
    }
   ],
   "source": [
    "popn = np.random.normal(10, .3, 10000)\n",
    "popn2 = np.random.normal(10, .4, 10000)\n",
    "samplen = np.random.choice(popn, 100, replace=True)\n",
    "samplen2 = np.random.choice(popn2, 100, replace=True)\n",
    "print(samplen.mean())\n",
    "print(samplen.std())\n",
    "print(samplen2.mean())\n",
    "print(samplen2.std())\n",
    "\n",
    "pop_diff_n = samplen.mean() - samplen2.mean()\n",
    "size_n = np.array([len(samplen), len(samplen2)])\n",
    "sd_n = np.array([samplen.std(), samplen2.std()])\n",
    "\n",
    "diff_standarderror_n = (sum((sd_n ** 2) / size_n)) ** .5\n",
    "\n",
    "print(pop_diff_n / diff_standarderror_n)\n",
    "\n",
    "from scipy.stats import ttest_ind\n",
    "print(ttest_ind(samplen2, samplen, equal_var=False))"
   ]
  },
  {
   "cell_type": "code",
   "execution_count": null,
   "metadata": {},
   "outputs": [],
   "source": []
  }
 ],
 "metadata": {
  "kernelspec": {
   "display_name": "Python 3",
   "language": "python",
   "name": "python3"
  },
  "language_info": {
   "codemirror_mode": {
    "name": "ipython",
    "version": 3
   },
   "file_extension": ".py",
   "mimetype": "text/x-python",
   "name": "python",
   "nbconvert_exporter": "python",
   "pygments_lexer": "ipython3",
   "version": "3.6.3"
  }
 },
 "nbformat": 4,
 "nbformat_minor": 2
}
